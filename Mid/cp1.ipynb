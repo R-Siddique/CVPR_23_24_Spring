{
  "metadata": {
    "kernelspec": {
      "name": "python",
      "display_name": "Python (Pyodide)",
      "language": "python"
    },
    "language_info": {
      "codemirror_mode": {
        "name": "python",
        "version": 3
      },
      "file_extension": ".py",
      "mimetype": "text/x-python",
      "name": "python",
      "nbconvert_exporter": "python",
      "pygments_lexer": "ipython3",
      "version": "3.8"
    }
  },
  "nbformat_minor": 4,
  "nbformat": 4,
  "cells": [
    {
      "cell_type": "code",
      "source": "# List operation\n# Create a list of integers containing numbers from 1 to 10.\n# Create an empty list to store integers\ninteger_list = []\n\n# Use a for loop to iterate over numbers from 1 to 10\n# The range function generates numbers from 1 to 10 (inclusive)\n\nfor num in range(1, 11):\n    # Append each number to the integer_list\n    integer_list.append(num)\n\n# Print the integer_list to verify the result\n\nprint(\"List of integers from 1 to 10:\", integer_list)\n",
      "metadata": {
        "trusted": true
      },
      "outputs": [
        {
          "name": "stdout",
          "text": "List of integers from 1 to 10: [1, 2, 3, 4, 5, 6, 7, 8, 9, 10]\n",
          "output_type": "stream"
        }
      ],
      "execution_count": 1
    },
    {
      "cell_type": "code",
      "source": "# Append the square of each number to the list.\n# An empty list to store integers and their squares\ninteger_list = []\n\n# A for loop to iterate over numbers from 1 to 10\n# The range function generates numbers from 1 to 10 (inclusive)\n\nfor num in range(1, 11):\n    # Calculating the square of each number and append it to the list\n    square = num ** 2\n    integer_list.append(square)\n\n# Printing the integer_list to verify the result\n\nprint(\"List of squares of integers from 1 to 10:\", integer_list)\n",
      "metadata": {
        "trusted": true
      },
      "outputs": [
        {
          "name": "stdout",
          "text": "List of squares of integers from 1 to 10: [1, 4, 9, 16, 25, 36, 49, 64, 81, 100]\n",
          "output_type": "stream"
        }
      ],
      "execution_count": 2
    },
    {
      "cell_type": "code",
      "source": "\n# Find and print the sum of all elements in the list.\n\n# An empty list to store integers and their squares\ninteger_list = []\n\n# Using a for loop to iterate over numbers from 1 to 10\n# The range function generates numbers from 1 to 10 (inclusive)\n\nfor num in range(1, 11):\n    # Calculating the square of each number and append it to the list\n    square = num ** 2\n    integer_list.append(square)\n\n# Printing the integer_list to verify the result\n\nprint(\"List of squares of integers from 1 to 10:\", integer_list)\n\n# Finding the sum of all elements in the integer_list using the sum() function\n\nsum_of_elements = sum(integer_list)\n\n# Printing the sum of all elements\n\nprint(\"Sum of all elements in the list:\", sum_of_elements)\n",
      "metadata": {
        "trusted": true
      },
      "outputs": [
        {
          "name": "stdout",
          "text": "List of squares of integers from 1 to 10: [1, 4, 9, 16, 25, 36, 49, 64, 81, 100]\nSum of all elements in the list: 385\n",
          "output_type": "stream"
        }
      ],
      "execution_count": 3
    },
    {
      "cell_type": "code",
      "source": "# Tuple Operations:\n# Create a tuple containing the first five even numbers.\n\n# Initializing an empty list to store even numbers\neven_numbers = []\n\n# Starting a variable to keep track of the current number\ncurrent_number = 2\n\n# Using a while loop to find the first five even numbers\nwhile len(even_numbers) < 5:\n    # Append the current number to the list of even numbers\n    even_numbers.append(current_number)\n    # Increment the current number by 2 to get the next even number\n    current_number += 2\n\n# Converting the list of even numbers to a tuple\neven_numbers_tuple = tuple(even_numbers)\n\n# Printing the tuple containing the first five even numbers\nprint(\"Tuple containing the first five even numbers:\", even_numbers_tuple)\n",
      "metadata": {
        "trusted": true
      },
      "outputs": [
        {
          "name": "stdout",
          "text": "Tuple containing the first five even numbers: (2, 4, 6, 8, 10)\n",
          "output_type": "stream"
        }
      ],
      "execution_count": 4
    },
    {
      "cell_type": "code",
      "source": "\n# Find and print the product of all elements in the tuple.\n\n# Initializing an empty list to store even numbers\n\neven_numbers = []\n\n# Starting a variable to keep track of the current number\n\ncurrent_number = 2\n\n# Using a while loop to find the first five even numbers\n\nwhile len(even_numbers) < 5:\n    # Appending the current number to the list of even numbers\n    even_numbers.append(current_number)\n    # Incrementing the current number by 2 to get the next even number\n    current_number += 2\n\n# Converting the list of even numbers to a tuple\n\neven_numbers_tuple = tuple(even_numbers)\n\n# Printing the tuple containing the first five even numbers\n\nprint(\"Tuple containing the first five even numbers:\", even_numbers_tuple)\n\n# Initializing the product variable to 1\n\nproduct = 1\n\n# Calculating the product of all elements in the tuple\n\nfor num in even_numbers_tuple:\n    product *= num\n\n# Printing the product of all elements in the tuple\n\nprint(\"Product of all elements in the tuple:\", product)\n",
      "metadata": {
        "trusted": true
      },
      "outputs": [
        {
          "name": "stdout",
          "text": "Tuple containing the first five even numbers: (2, 4, 6, 8, 10)\nProduct of all elements in the tuple: 3840\n",
          "output_type": "stream"
        }
      ],
      "execution_count": 5
    },
    {
      "cell_type": "code",
      "source": "# Set Operations:\n# Create two sets of odd numbers between 1 to 10.\n\n# Creating two empty sets to store odd numbers\nodd_set_1 = set()\nodd_set_2 = set()\n\n# Iterating over numbers from 1 to 10\n# The range function generates numbers from 1 to 10 (inclusive)\nfor num in range(1, 11):\n    # Checking if the number is odd\n    if num % 2 != 0:\n        # Adding the odd number to the first set of odd numbers\n        odd_set_1.add(num)\n    else:\n        # Adding the odd number to the second set of odd numbers\n        odd_set_2.add(num)\n\n# Printing the first set of odd numbers\nprint(\"First set of odd numbers between 1 to 10:\", odd_set_1)\n\n# Printing the second set of odd numbers\nprint(\"Second set of odd numbers between 1 to 10:\", odd_set_2)\n\n",
      "metadata": {
        "trusted": true
      },
      "outputs": [
        {
          "name": "stdout",
          "text": "First set of odd numbers between 1 to 10: {1, 3, 5, 7, 9}\nSecond set of odd numbers between 1 to 10: {2, 4, 6, 8, 10}\n",
          "output_type": "stream"
        }
      ],
      "execution_count": 6
    },
    {
      "cell_type": "code",
      "source": "# Find and print the union of the two sets\n\n# Creating two empty sets to store odd numbers\nodd_set_1 = set()\nodd_set_2 = set()\n\n# Iterating over numbers from 1 to 10\n# The range function generates numbers from 1 to 10 (inclusive)\nfor num in range(1, 11):\n    # Checking if the number is odd\n    if num % 2 != 0:\n        # Adding the odd number to the first set of odd numbers\n        odd_set_1.add(num)\n    else:\n        # Adding the odd number to the second set of odd numbers\n        odd_set_2.add(num)\n\n# Printing the first set of odd numbers\nprint(\"First set of odd numbers between 1 to 10:\", odd_set_1)\n\n# Printing the second set of odd numbers\nprint(\"Second set of odd numbers between 1 to 10:\", odd_set_2)\n\n# Finding the union of the two sets\nunion_set = odd_set_1.union(odd_set_2)\n\n# Printing the union of the two sets\nprint(\"Union of the two sets of odd numbers:\", union_set)\n",
      "metadata": {
        "trusted": true
      },
      "outputs": [
        {
          "name": "stdout",
          "text": "First set of odd numbers between 1 to 10: {1, 3, 5, 7, 9}\nSecond set of odd numbers between 1 to 10: {2, 4, 6, 8, 10}\nUnion of the two sets of odd numbers: {1, 2, 3, 4, 5, 6, 7, 8, 9, 10}\n",
          "output_type": "stream"
        }
      ],
      "execution_count": 7
    },
    {
      "cell_type": "code",
      "source": "# Find and print the intersection of the two sets.\n\n# Creating two empty sets to store odd numbers\nodd_set_1 = set()\nodd_set_2 = set()\n\n# Iterating over numbers from 1 to 10\n# The range function generates numbers from 1 to 10 (inclusive)\nfor num in range(1, 11):\n    # Checking if the number is odd\n    if num % 2 != 0:\n        # Adding the odd number to the first set of odd numbers\n        odd_set_1.add(num)\n    else:\n        # Adding the odd number to the second set of odd numbers\n        odd_set_2.add(num)\n\n# Printing the first set of odd numbers\nprint(\"First set of odd numbers between 1 to 10:\", odd_set_1)\n\n# Printing the second set of odd numbers\nprint(\"Second set of odd numbers between 1 to 10:\", odd_set_2)\n\n# Finding the intersection of the two sets\nintersection_set = odd_set_1.intersection(odd_set_2)\n\n# Printing the intersection of the two sets\nprint(\"Intersection of the two sets of odd numbers:\", intersection_set)\n",
      "metadata": {
        "trusted": true
      },
      "outputs": [
        {
          "name": "stdout",
          "text": "First set of odd numbers between 1 to 10: {1, 3, 5, 7, 9}\nSecond set of odd numbers between 1 to 10: {2, 4, 6, 8, 10}\nIntersection of the two sets of odd numbers: set()\n",
          "output_type": "stream"
        }
      ],
      "execution_count": 8
    },
    {
      "cell_type": "code",
      "source": "# Dictionary Operations\n# Create a dictionary where keys are the first five lowercase alphabets and values are their respective ASCII values\n\n# Creating an empty dictionary to store lowercase alphabets and their ASCII values\nascii_dict = {}\n\n# Iterating over the first five lowercase alphabets\n# Using the built-in function ord() to get the ASCII value of each alphabet\nfor letter in 'abcde':\n    # Assigning the ASCII value of the current alphabet as the value in the dictionary\n    # Using the letter as the key\n    ascii_dict[letter] = ord(letter)\n\n# Printing the dictionary containing lowercase alphabets and their ASCII values\nprint(\"Dictionary with lowercase alphabets and their ASCII values:\", ascii_dict)\n",
      "metadata": {
        "trusted": true
      },
      "outputs": [
        {
          "name": "stdout",
          "text": "Dictionary with lowercase alphabets and their ASCII values: {'a': 97, 'b': 98, 'c': 99, 'd': 100, 'e': 101}\n",
          "output_type": "stream"
        }
      ],
      "execution_count": 10
    },
    {
      "cell_type": "code",
      "source": "# Functional Programming\n# Define a function square(x) that returns the square of x\n\n# Defineing a function named square that takes a parameter x\ndef square(x):\n    \n    # Calculating the square of the input x and return the result\n    return x ** 2\n",
      "metadata": {
        "trusted": true
      },
      "outputs": [],
      "execution_count": 11
    },
    {
      "cell_type": "code",
      "source": "#Use the map function to apply the square function to each element in a list of integers from 1 to 10 and print the result.\n\n# Defining a function named square that takes a parameter x\ndef square(x):\n    \n    # Calculating the square of the input x and returning the result\n    return x ** 2\n\n# Creating a list of integers from 1 to 10 using the range function\ninteger_list = list(range(1, 11))\n\n# Using the map function to apply the square function to each element in the integer list\n# The map function returns an iterator, so we convert it to a list to see the results\nsquared_list = list(map(square, integer_list))\n\n# Printing the list of squared elements\nprint(\"List of squared elements from 1 to 10:\", squared_list)\n",
      "metadata": {
        "trusted": true
      },
      "outputs": [
        {
          "name": "stdout",
          "text": "List of squared elements from 1 to 10: [1, 4, 9, 16, 25, 36, 49, 64, 81, 100]\n",
          "output_type": "stream"
        }
      ],
      "execution_count": 12
    },
    {
      "cell_type": "code",
      "source": "",
      "metadata": {
        "trusted": true
      },
      "outputs": [],
      "execution_count": null
    }
  ]
}